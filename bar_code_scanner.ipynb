{
  "nbformat": 4,
  "nbformat_minor": 0,
  "metadata": {
    "colab": {
      "provenance": []
    },
    "kernelspec": {
      "name": "python3",
      "display_name": "Python 3"
    },
    "language_info": {
      "name": "python"
    }
  },
  "cells": [
    {
      "cell_type": "markdown",
      "source": [
        "The initial cells demonstrate my stepwise approach to the solution. The final function is given at the end."
      ],
      "metadata": {
        "id": "um_P1RoGh2bz"
      }
    },
    {
      "cell_type": "markdown",
      "source": [
        "Step 1 : Loading the image of the bar code and plotting it using matplotlib. "
      ],
      "metadata": {
        "id": "A1hrjHYxiGDh"
      }
    },
    {
      "cell_type": "code",
      "execution_count": null,
      "metadata": {
        "colab": {
          "base_uri": "https://localhost:8080/",
          "height": 462
        },
        "id": "yIQCh6z6cQkR",
        "outputId": "2f7229b3-255b-478d-91dd-595f27f7a5d2"
      },
      "outputs": [
        {
          "output_type": "execute_result",
          "data": {
            "text/plain": [
              "<matplotlib.image.AxesImage at 0x7f4c37627dc0>"
            ]
          },
          "metadata": {},
          "execution_count": 25
        },
        {
          "output_type": "display_data",
          "data": {
            "text/plain": [
              "<Figure size 500x500 with 1 Axes>"
            ],
            "image/png": "[encoded data removed]"
          },
          "metadata": {}
        }
      ],
      "source": [
        "from PIL import Image\n",
        "bar_code1 = Image.open(\"/content/Barcode1.png\")\n",
        "\n",
        "import matplotlib.pyplot as plt\n",
        "plt.figure(figsize=(5,5))\n",
        "plt.imshow(bar_code1)"
      ]
    },
    {
      "cell_type": "markdown",
      "source": [
        "Step 2 : Converting the image into a numpy array and slicing the array to extract the features in any one row (first row in this case since all the rows have the same values). Extracting only one of the RGB values (since, R, G and B have the same pixel values due to the arrangement of black and white columns)"
      ],
      "metadata": {
        "id": "5DvRk4hPiSTR"
      }
    },
    {
      "cell_type": "code",
      "source": [
        "import numpy as np\n",
        "barcode1array=np.array(bar_code1)\n",
        "print(barcode1array)\n",
        "\n",
        "print(barcode1array[0][:,0])\n",
        "req=barcode1array[0][:,0]"
      ],
      "metadata": {
        "colab": {
          "base_uri": "https://localhost:8080/"
        },
        "id": "9-QG9Trfdan-",
        "outputId": "43e529df-b0df-4e2b-b851-eea5a632a491"
      },
      "execution_count": null,
      "outputs": [
        {
          "output_type": "stream",
          "name": "stdout",
          "text": [
            "[[[  0   0   0]\n",
            "  [255 255 255]\n",
            "  [  0   0   0]\n",
            "  ...\n",
            "  [255 255 255]\n",
            "  [  0   0   0]\n",
            "  [  0   0   0]]\n",
            "\n",
            " [[  0   0   0]\n",
            "  [255 255 255]\n",
            "  [  0   0   0]\n",
            "  ...\n",
            "  [255 255 255]\n",
            "  [  0   0   0]\n",
            "  [  0   0   0]]\n",
            "\n",
            " [[  0   0   0]\n",
            "  [255 255 255]\n",
            "  [  0   0   0]\n",
            "  ...\n",
            "  [255 255 255]\n",
            "  [  0   0   0]\n",
            "  [  0   0   0]]\n",
            "\n",
            " ...\n",
            "\n",
            " [[  0   0   0]\n",
            "  [255 255 255]\n",
            "  [  0   0   0]\n",
            "  ...\n",
            "  [255 255 255]\n",
            "  [  0   0   0]\n",
            "  [  0   0   0]]\n",
            "\n",
            " [[  0   0   0]\n",
            "  [255 255 255]\n",
            "  [  0   0   0]\n",
            "  ...\n",
            "  [255 255 255]\n",
            "  [  0   0   0]\n",
            "  [  0   0   0]]\n",
            "\n",
            " [[  0   0   0]\n",
            "  [255 255 255]\n",
            "  [  0   0   0]\n",
            "  ...\n",
            "  [255 255 255]\n",
            "  [  0   0   0]\n",
            "  [  0   0   0]]]\n",
            "[  0 255   0   0 255   0 255   0   0   0 255   0   0   0   0 255   0 255\n",
            "   0   0]\n"
          ]
        }
      ]
    },
    {
      "cell_type": "markdown",
      "source": [
        "Step 3 : Extracting the specific digits based on the length of black spaces"
      ],
      "metadata": {
        "id": "z6gWGCJPjR80"
      }
    },
    {
      "cell_type": "code",
      "source": [
        "lis=[]\n",
        "s=0\n",
        "for i in range(len(req)):\n",
        "  if req[i]==0:\n",
        "    s+=1\n",
        "  else:\n",
        "    lis.append(s)\n",
        "    s=0\n",
        "if req[-1]==0:\n",
        "  lis.append(s)\n",
        "print(lis)\n"
      ],
      "metadata": {
        "colab": {
          "base_uri": "https://localhost:8080/"
        },
        "id": "_E2dhTEDeKB4",
        "outputId": "ae65c22f-1ab8-42c2-aa18-97d08da81858"
      },
      "execution_count": null,
      "outputs": [
        {
          "output_type": "stream",
          "name": "stdout",
          "text": [
            "[1, 2, 1, 3, 4, 1, 2]\n"
          ]
        }
      ]
    },
    {
      "cell_type": "markdown",
      "source": [
        "Compiling everything in terms of a function that plots the barcode as well as gives the value of the barcode by taking the image address."
      ],
      "metadata": {
        "id": "NC9-cIyDjdeP"
      }
    },
    {
      "cell_type": "code",
      "source": [
        "## Barcode Scanner with digit 1 spanning the length of 1 pixel.\n",
        "\n",
        "def barcodescanner(image_address):\n",
        "  from PIL import Image\n",
        "  bar_code1 = Image.open(image_address)\n",
        "  import matplotlib.pyplot as plt\n",
        "  plt.figure(figsize=(5,5))\n",
        "  plt.title(\"The Bar Code\")\n",
        "  plt.imshow(bar_code1)\n",
        "\n",
        "  import numpy as np\n",
        "  barcode1array=np.array(bar_code1)\n",
        "  req=barcode1array[0][:,0]\n",
        "  lis=[]\n",
        "  s=0\n",
        "  for i in range(len(req)):\n",
        "    if req[i]==0:\n",
        "      s+=1\n",
        "    else:\n",
        "      lis.append(s)\n",
        "      s=0\n",
        "  if req[-1]==0:\n",
        "    lis.append(s)\n",
        "  string_output=\"\"\n",
        "  for i in range(len(lis)):\n",
        "    string_output=string_output+str(lis[i])\n",
        "  print(\"The Value of the Barcode is \",int(string_output))"
      ],
      "metadata": {
        "id": "fNtpeOPBfZns"
      },
      "execution_count": null,
      "outputs": []
    },
    {
      "cell_type": "markdown",
      "source": [
        "TEST Barcode 1"
      ],
      "metadata": {
        "id": "6Ai_hIl62mN5"
      }
    },
    {
      "cell_type": "code",
      "source": [
        "barcodescanner(\"/content/Barcode1.png\")"
      ],
      "metadata": {
        "colab": {
          "base_uri": "https://localhost:8080/",
          "height": 485
        },
        "id": "aIlI28SXhZ5C",
        "outputId": "26d11930-628f-49f6-f7a9-6f07083ad8ad"
      },
      "execution_count": null,
      "outputs": [
        {
          "output_type": "stream",
          "name": "stdout",
          "text": [
            "The Value of the Barcode is  1213412\n"
          ]
        },
        {
          "output_type": "display_data",
          "data": {
            "text/plain": [
              "<Figure size 500x500 with 1 Axes>"
            ],
            "image/png": "[encoded data removed]"
          },
          "metadata": {}
        }
      ]
    },
    {
      "cell_type": "markdown",
      "source": [
        "TEST Barcode 2"
      ],
      "metadata": {
        "id": "aIkGlo-u2o4t"
      }
    },
    {
      "cell_type": "code",
      "source": [
        "barcodescanner(\"/content/Barcode2.png\")"
      ],
      "metadata": {
        "colab": {
          "base_uri": "https://localhost:8080/",
          "height": 485
        },
        "id": "lp6iKD-Thf14",
        "outputId": "6509b278-b275-40a7-e697-9e29e958c8be"
      },
      "execution_count": null,
      "outputs": [
        {
          "output_type": "stream",
          "name": "stdout",
          "text": [
            "The Value of the Barcode is  21122131\n"
          ]
        },
        {
          "output_type": "display_data",
          "data": {
            "text/plain": [
              "<Figure size 500x500 with 1 Axes>"
            ],
            "image/png": "[encoded data removed]"
          },
          "metadata": {}
        }
      ]
    }
  ]
}